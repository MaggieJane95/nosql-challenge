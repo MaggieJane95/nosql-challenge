{
 "cells": [
  {
   "cell_type": "markdown",
   "id": "9a57c4c6",
   "metadata": {},
   "source": [
    "# Eat Safe, Love"
   ]
  },
  {
   "cell_type": "markdown",
   "id": "064ef857",
   "metadata": {},
   "source": [
    "## Notebook Set Up"
   ]
  },
  {
   "cell_type": "code",
   "execution_count": 1,
   "id": "3ecdd008",
   "metadata": {},
   "outputs": [],
   "source": [
    "from pymongo import MongoClient\n",
    "import pandas as pd\n",
    "from pprint import pprint"
   ]
  },
  {
   "cell_type": "code",
   "execution_count": 2,
   "id": "59390c4a",
   "metadata": {},
   "outputs": [],
   "source": [
    "# Create an instance of MongoClient\n",
    "mongo = MongoClient(port=27017)"
   ]
  },
  {
   "cell_type": "code",
   "execution_count": 3,
   "id": "71e373c1",
   "metadata": {},
   "outputs": [],
   "source": [
    "# assign the uk_food database to a variable name\n",
    "db = mongo['uk_food']"
   ]
  },
  {
   "cell_type": "code",
   "execution_count": 4,
   "id": "18ab463c",
   "metadata": {},
   "outputs": [
    {
     "name": "stdout",
     "output_type": "stream",
     "text": [
      "['establishments']\n"
     ]
    }
   ],
   "source": [
    "# review the collections in our database\n",
    "print(db.list_collection_names())"
   ]
  },
  {
   "cell_type": "code",
   "execution_count": 5,
   "id": "11c9f11b",
   "metadata": {},
   "outputs": [],
   "source": [
    "# assign the collection to a variable\n",
    "establishments = db['establishments']"
   ]
  },
  {
   "cell_type": "markdown",
   "id": "d5671434",
   "metadata": {},
   "source": [
    "## Part 3: Exploratory Analysis\n",
    "Unless otherwise stated, for each question: \n",
    "* Use `count_documents` to display the number of documents contained in the result.\n",
    "* Display the first document in the results using `pprint`.\n",
    "* Convert the result to a Pandas DataFrame, print the number of rows in the DataFrame, and display the first 10 rows."
   ]
  },
  {
   "cell_type": "markdown",
   "id": "314bd884",
   "metadata": {},
   "source": [
    "### 1. Which establishments have a hygiene score equal to 20?"
   ]
  },
  {
   "cell_type": "code",
   "execution_count": 16,
   "id": "c2da7648",
   "metadata": {},
   "outputs": [
    {
     "name": "stdout",
     "output_type": "stream",
     "text": [
      "No documents found with a hygiene score of 20\n"
     ]
    }
   ],
   "source": [
    "# Find the establishments with a hygiene score of 20\n",
    "query = {'Hygiene':20}\n",
    "\n",
    "\n",
    "# Use count_documents to display the number of documents in the result\n",
    "count = establishments.count_documents(query)\n",
    "\n",
    "# Display the first document in the results using pprint\n",
    "result = establishments.find_one(query)\n",
    "if result:\n",
    "    pprint(result)\n",
    "else:\n",
    "    print(\"No documents found with a hygiene score of 20\")"
   ]
  },
  {
   "cell_type": "code",
   "execution_count": 12,
   "id": "a6e5cece",
   "metadata": {},
   "outputs": [
    {
     "data": {
      "text/html": [
       "<div>\n",
       "<style scoped>\n",
       "    .dataframe tbody tr th:only-of-type {\n",
       "        vertical-align: middle;\n",
       "    }\n",
       "\n",
       "    .dataframe tbody tr th {\n",
       "        vertical-align: top;\n",
       "    }\n",
       "\n",
       "    .dataframe thead th {\n",
       "        text-align: right;\n",
       "    }\n",
       "</style>\n",
       "<table border=\"1\" class=\"dataframe\">\n",
       "  <thead>\n",
       "    <tr style=\"text-align: right;\">\n",
       "      <th></th>\n",
       "    </tr>\n",
       "  </thead>\n",
       "  <tbody>\n",
       "  </tbody>\n",
       "</table>\n",
       "</div>"
      ],
      "text/plain": [
       "Empty DataFrame\n",
       "Columns: []\n",
       "Index: []"
      ]
     },
     "execution_count": 12,
     "metadata": {},
     "output_type": "execute_result"
    }
   ],
   "source": [
    "# Convert the result to a Pandas DataFrame\n",
    "\n",
    "# Display the number of rows in the DataFrame\n",
    "\n",
    "# Display the first 10 rows of the DataFrame\n"
   ]
  },
  {
   "cell_type": "markdown",
   "id": "0ef4395a",
   "metadata": {},
   "source": [
    "### 2. Which establishments in London have a `RatingValue` greater than or equal to 4?"
   ]
  },
  {
   "cell_type": "code",
   "execution_count": 22,
   "id": "93c63829",
   "metadata": {},
   "outputs": [
    {
     "name": "stdout",
     "output_type": "stream",
     "text": [
      "First result:\n",
      "{'AddressLine1': 'Wear Bay Road',\n",
      " 'AddressLine2': 'Folkestone',\n",
      " 'AddressLine3': 'Kent',\n",
      " 'AddressLine4': '',\n",
      " 'BusinessName': 'Wear Bay Bowls Club',\n",
      " 'BusinessType': 'Pub/bar/nightclub',\n",
      " 'BusinessTypeID': 7843,\n",
      " 'ChangesByServerID': 0,\n",
      " 'Distance': 4591.821311183521,\n",
      " 'FHRSID': 647177,\n",
      " 'LocalAuthorityBusinessID': 'PI/000041489',\n",
      " 'LocalAuthorityCode': '188',\n",
      " 'LocalAuthorityEmailAddress': 'foodteam@folkestone-hythe.gov.uk',\n",
      " 'LocalAuthorityName': 'Folkestone and Hythe',\n",
      " 'LocalAuthorityWebSite': 'http://www.folkestone-hythe.gov.uk',\n",
      " 'NewRatingPending': False,\n",
      " 'Phone': '',\n",
      " 'PostCode': 'CT19 6PY',\n",
      " 'RatingDate': '2014-03-31T00:00:00',\n",
      " 'RatingKey': 'fhrs_4_en-gb',\n",
      " 'RatingValue': '4',\n",
      " 'RightToReply': '',\n",
      " 'SchemeType': 'FHRS',\n",
      " '_id': ObjectId('65fc84365ce1d90ea697af4c'),\n",
      " 'geocode': {'latitude': '51.086058', 'longitude': '1.196408'},\n",
      " 'links': [{'href': 'https://api.ratings.food.gov.uk/establishments/647177',\n",
      "            'rel': 'self'}],\n",
      " 'meta': {'dataSource': None,\n",
      "          'extractDate': '0001-01-01T00:00:00',\n",
      "          'itemCount': 0,\n",
      "          'pageNumber': 0,\n",
      "          'pageSize': 0,\n",
      "          'returncode': None,\n",
      "          'totalCount': 0,\n",
      "          'totalPages': 0},\n",
      " 'scores': {'ConfidenceInManagement': 10, 'Hygiene': 5, 'Structural': 5}}\n"
     ]
    }
   ],
   "source": [
    "# Find the establishments with London as the Local Authority and has a RatingValue greater than or equal to 4.\n",
    "query = {\n",
    "    'LocalAuthorityName': 'London',\n",
    "    'RatingValue': {'$gte': 4}\n",
    "}\n",
    "# Use count_documents to display the number of documents in the result\n",
    "count = establishments.count_documents(query)\n",
    "\n",
    "# Display the first document in the results using pprint\n",
    "print(\"First result:\")\n",
    "results = establishments.find(count)\n",
    "pprint(results[0])"
   ]
  },
  {
   "cell_type": "code",
   "execution_count": 23,
   "id": "07e24ccb",
   "metadata": {},
   "outputs": [
    {
     "name": "stdout",
     "output_type": "stream",
     "text": [
      "Number of rows in the DataFrame: 38787\n",
      "First 10 rows of the DataFrame:\n",
      "                        _id     FHRSID  ChangesByServerID  \\\n",
      "0  65fc84365ce1d90ea697af4c   647177.0                0.0   \n",
      "1  65fc84365ce1d90ea697af50  1043695.0                0.0   \n",
      "2  65fc84365ce1d90ea697af51   289352.0                0.0   \n",
      "3  65fc84365ce1d90ea697af52   289560.0                0.0   \n",
      "4  65fc84365ce1d90ea697af53   894592.0                0.0   \n",
      "5  65fc84365ce1d90ea697af54  1043701.0                0.0   \n",
      "6  65fc84365ce1d90ea697af55   987206.0                0.0   \n",
      "7  65fc84365ce1d90ea697af56   805702.0                0.0   \n",
      "8  65fc84365ce1d90ea697af57   344689.0                0.0   \n",
      "9  65fc84365ce1d90ea697af58   805703.0                0.0   \n",
      "\n",
      "  LocalAuthorityBusinessID               BusinessName  \\\n",
      "0             PI/000041489        Wear Bay Bowls Club   \n",
      "1             PI/000073616               The Pavilion   \n",
      "2             PI/000002460                   The Ship   \n",
      "3             PI/000039927                    Mariner   \n",
      "4             PI/000074396                     Docker   \n",
      "5             PI/000076360            Pick Up Pintxos   \n",
      "6             PI/000075655           The Ships Galley   \n",
      "7             PI/000073219   Dr Legumes - Harbour Arm   \n",
      "8             PI/000002095   Folkestone Trawlers Shop   \n",
      "9             PI/000073221  That Burger - Harbour Arm   \n",
      "\n",
      "              BusinessType  BusinessTypeID         AddressLine1  \\\n",
      "0        Pub/bar/nightclub          7843.0        Wear Bay Road   \n",
      "1  Restaurant/Cafe/Canteen             1.0  East Cliff Pavilion   \n",
      "2        Pub/bar/nightclub          7843.0         23 The Stade   \n",
      "3        Pub/bar/nightclub          7843.0         16 The Stade   \n",
      "4        Retailers - other          4613.0   Folkestone Harbour   \n",
      "5   Takeaway/sandwich shop          7844.0   Folkestone Harbour   \n",
      "6        Pub/bar/nightclub          7843.0             The Ship   \n",
      "7  Restaurant/Cafe/Canteen             1.0   Folkestone Harbour   \n",
      "8        Retailers - other          4613.0          1 The Stade   \n",
      "9   Takeaway/sandwich shop          7844.0   Folkestone Harbour   \n",
      "\n",
      "            AddressLine2 AddressLine3  ...        LocalAuthorityEmailAddress  \\\n",
      "0             Folkestone         Kent  ...  foodteam@folkestone-hythe.gov.uk   \n",
      "1          Wear Bay Road   Folkestone  ...  foodteam@folkestone-hythe.gov.uk   \n",
      "2             Folkestone         Kent  ...  foodteam@folkestone-hythe.gov.uk   \n",
      "3             Folkestone         Kent  ...  foodteam@folkestone-hythe.gov.uk   \n",
      "4  Harbour Approach Road   Folkestone  ...  foodteam@folkestone-hythe.gov.uk   \n",
      "5  Harbour Approach Road   Folkestone  ...  foodteam@folkestone-hythe.gov.uk   \n",
      "6           23 The Stade   Folkestone  ...  foodteam@folkestone-hythe.gov.uk   \n",
      "7  Harbour Approach Road   Folkestone  ...  foodteam@folkestone-hythe.gov.uk   \n",
      "8             Folkestone         Kent  ...  foodteam@folkestone-hythe.gov.uk   \n",
      "9  Harbour Approach Road   Folkestone  ...  foodteam@folkestone-hythe.gov.uk   \n",
      "\n",
      "                                              scores SchemeType  \\\n",
      "0  {'Hygiene': 5, 'Structural': 5, 'ConfidenceInM...       FHRS   \n",
      "1  {'Hygiene': 5, 'Structural': 5, 'ConfidenceInM...       FHRS   \n",
      "2  {'Hygiene': 5, 'Structural': 5, 'ConfidenceInM...       FHRS   \n",
      "3  {'Hygiene': 0, 'Structural': 5, 'ConfidenceInM...       FHRS   \n",
      "4  {'Hygiene': 0, 'Structural': 0, 'ConfidenceInM...       FHRS   \n",
      "5  {'Hygiene': 5, 'Structural': 5, 'ConfidenceInM...       FHRS   \n",
      "6  {'Hygiene': 0, 'Structural': 0, 'ConfidenceInM...       FHRS   \n",
      "7  {'Hygiene': 0, 'Structural': 10, 'ConfidenceIn...       FHRS   \n",
      "8  {'Hygiene': 0, 'Structural': 5, 'ConfidenceInM...       FHRS   \n",
      "9  {'Hygiene': 5, 'Structural': 5, 'ConfidenceInM...       FHRS   \n",
      "\n",
      "                                             geocode RightToReply  \\\n",
      "0  {'longitude': '1.196408', 'latitude': '51.0860...                \n",
      "1  {'longitude': '1.195625', 'latitude': '51.0838...                \n",
      "2  {'longitude': '1.188537', 'latitude': '51.08084'}                \n",
      "3  {'longitude': '1.188537', 'latitude': '51.08084'}                \n",
      "4  {'longitude': '1.18590330311705', 'latitude': ...                \n",
      "5  {'longitude': '1.18590330311705', 'latitude': ...                \n",
      "6  {'longitude': '1.188537', 'latitude': '51.08084'}                \n",
      "7  {'longitude': '1.18590330311705', 'latitude': ...                \n",
      "8  {'longitude': '1.188537', 'latitude': '51.08084'}                \n",
      "9  {'longitude': '1.18590330311705', 'latitude': ...                \n",
      "\n",
      "      Distance NewRatingPending  \\\n",
      "0  4591.821311            False   \n",
      "1  4591.765489            False   \n",
      "2  4591.912145            False   \n",
      "3  4591.912145            False   \n",
      "4  4591.914705            False   \n",
      "5  4591.914705            False   \n",
      "6  4591.912145            False   \n",
      "7  4591.914705            False   \n",
      "8  4591.912145            False   \n",
      "9  4591.914705            False   \n",
      "\n",
      "                                                meta  \\\n",
      "0  {'dataSource': None, 'extractDate': '0001-01-0...   \n",
      "1  {'dataSource': None, 'extractDate': '0001-01-0...   \n",
      "2  {'dataSource': None, 'extractDate': '0001-01-0...   \n",
      "3  {'dataSource': None, 'extractDate': '0001-01-0...   \n",
      "4  {'dataSource': None, 'extractDate': '0001-01-0...   \n",
      "5  {'dataSource': None, 'extractDate': '0001-01-0...   \n",
      "6  {'dataSource': None, 'extractDate': '0001-01-0...   \n",
      "7  {'dataSource': None, 'extractDate': '0001-01-0...   \n",
      "8  {'dataSource': None, 'extractDate': '0001-01-0...   \n",
      "9  {'dataSource': None, 'extractDate': '0001-01-0...   \n",
      "\n",
      "                                               links name  \n",
      "0  [{'rel': 'self', 'href': 'https://api.ratings....  NaN  \n",
      "1  [{'rel': 'self', 'href': 'https://api.ratings....  NaN  \n",
      "2  [{'rel': 'self', 'href': 'https://api.ratings....  NaN  \n",
      "3  [{'rel': 'self', 'href': 'https://api.ratings....  NaN  \n",
      "4  [{'rel': 'self', 'href': 'https://api.ratings....  NaN  \n",
      "5  [{'rel': 'self', 'href': 'https://api.ratings....  NaN  \n",
      "6  [{'rel': 'self', 'href': 'https://api.ratings....  NaN  \n",
      "7  [{'rel': 'self', 'href': 'https://api.ratings....  NaN  \n",
      "8  [{'rel': 'self', 'href': 'https://api.ratings....  NaN  \n",
      "9  [{'rel': 'self', 'href': 'https://api.ratings....  NaN  \n",
      "\n",
      "[10 rows x 29 columns]\n"
     ]
    }
   ],
   "source": [
    "# Convert the result to a Pandas DataFrame\n",
    "results_df = pd.DataFrame(results)\n",
    "\n",
    "# Display the number of rows in the DataFrame\n",
    "num_rows = len(results_df)\n",
    "print(f\"Number of rows in the DataFrame: {num_rows}\")\n",
    "\n",
    "# Display the first 10 rows of the DataFrame\n",
    "print(\"First 10 rows of the DataFrame:\")\n",
    "print(results_df.head(10))"
   ]
  },
  {
   "attachments": {},
   "cell_type": "markdown",
   "id": "4e570caf",
   "metadata": {},
   "source": [
    "### 3. What are the top 5 establishments with a `RatingValue` rating value of 5, sorted by lowest hygiene score, nearest to the new restaurant added, \"Penang Flavours\"?"
   ]
  },
  {
   "cell_type": "code",
   "execution_count": null,
   "id": "7f599f3d",
   "metadata": {},
   "outputs": [],
   "source": [
    "# Search within 0.01 degree on either side of the latitude and longitude.\n",
    "# Rating value must equal 5\n",
    "# Sort by hygiene score\n",
    "\n",
    "degree_search = 0.01\n",
    "latitude =\n",
    "longitude =\n",
    "\n",
    "query =\n",
    "sort =\n",
    "limit =\n",
    "\n",
    "# Print the results\n"
   ]
  },
  {
   "cell_type": "code",
   "execution_count": null,
   "id": "a6ad16f7",
   "metadata": {},
   "outputs": [],
   "source": [
    "# Convert result to Pandas DataFrame\n",
    "rating_df = pd.DataFrame(results)"
   ]
  },
  {
   "cell_type": "markdown",
   "id": "67281254",
   "metadata": {},
   "source": [
    "### 4. How many establishments in each Local Authority area have a hygiene score of 0?"
   ]
  },
  {
   "cell_type": "code",
   "execution_count": 32,
   "id": "4eeb227e",
   "metadata": {},
   "outputs": [
    {
     "name": "stdout",
     "output_type": "stream",
     "text": [
      "Number of documents in result: 0\n",
      "[]\n"
     ]
    }
   ],
   "source": [
    "# Create a pipeline that:\n",
    "# 1. Matches establishments with a hygiene score of 0\n",
    "# 2. Groups the matches by Local Authority\n",
    "# 3. Sorts the matches from highest to lowest\n",
    "\n",
    "match_query = {'$match': {'establishments.scores.Hygiene': {'$eq': 0}}}\n",
    "group_query = {'$group': {'_id': '$LocalAuthorityName', 'count': {'$sum': 1}}}\n",
    "sort_values = {'$sort': {'count': -1}}\n",
    "\n",
    "pipeline = [match_query, group_query, sort_values]\n",
    "\n",
    "results = list(establishments.aggregate(pipeline))\n",
    "\n",
    "# Print the number of documents in the result\n",
    "print(\"Number of documents in result:\", len(results))\n",
    "\n",
    "# Print the first 10 results\n",
    "pprint(results[0:10])"
   ]
  },
  {
   "cell_type": "code",
   "execution_count": 33,
   "id": "d8aab364",
   "metadata": {},
   "outputs": [
    {
     "name": "stdout",
     "output_type": "stream",
     "text": [
      "Number of rows in the DataFrame: 0\n",
      "First 10 rows of the DataFrame:\n",
      "Empty DataFrame\n",
      "Columns: []\n",
      "Index: []\n"
     ]
    }
   ],
   "source": [
    "# Convert the result to a Pandas DataFrame\n",
    "local_df = pd.DataFrame(results)\n",
    "\n",
    "# Display the number of rows in the DataFrame\n",
    "num_rows = len(local_df)\n",
    "print(f\"Number of rows in the DataFrame: {num_rows}\")\n",
    "\n",
    "# Display the first 10 rows of the DataFrame\n",
    "print(\"First 10 rows of the DataFrame:\")\n",
    "print(local_df.head(10))"
   ]
  }
 ],
 "metadata": {
  "kernelspec": {
   "display_name": "Python 3 (ipykernel)",
   "language": "python",
   "name": "python3"
  },
  "language_info": {
   "codemirror_mode": {
    "name": "ipython",
    "version": 3
   },
   "file_extension": ".py",
   "mimetype": "text/x-python",
   "name": "python",
   "nbconvert_exporter": "python",
   "pygments_lexer": "ipython3",
   "version": "3.11.5"
  }
 },
 "nbformat": 4,
 "nbformat_minor": 5
}
